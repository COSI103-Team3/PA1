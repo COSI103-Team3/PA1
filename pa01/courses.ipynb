{
 "cells": [
  {
   "cell_type": "markdown",
   "metadata": {},
   "source": [
    "# Courses Demo\n",
    "This Jupyter notebook is for exploring the data set courses20-21.json\n",
    "which consists of all Brandeis courses in the 20-21 academic year (Fall20, Spr21, Sum21) \n",
    "which had at least 1 student enrolled.\n",
    "\n",
    "First we need to read the json file into a list of Python dictionaries"
   ]
  },
  {
   "cell_type": "code",
   "execution_count": 60,
   "metadata": {},
   "outputs": [],
   "source": [
    "import json\n",
    "from collections import defaultdict"
   ]
  },
  {
   "cell_type": "code",
   "execution_count": 61,
   "metadata": {},
   "outputs": [],
   "source": [
    "with open(\"courses20-21.json\",\"r\",encoding='utf-8') as jsonfile:\n",
    "    courses = json.load(jsonfile)"
   ]
  },
  {
   "cell_type": "markdown",
   "metadata": {},
   "source": [
    "## Structure of a course\n",
    "Next we look at the fields of each course dictionary and their values"
   ]
  },
  {
   "cell_type": "code",
   "execution_count": 62,
   "metadata": {},
   "outputs": [
    {
     "name": "stdout",
     "output_type": "stream",
     "text": [
      "there are 7813 courses in the dataset\n",
      "here is the data for course 1246\n"
     ]
    },
    {
     "data": {
      "text/plain": [
       "{'limit': 28,\n",
       " 'times': [{'start': 1080, 'end': 1170, 'days': ['w', 'm']}],\n",
       " 'enrolled': 4,\n",
       " 'details': 'Instruction for this course will be offered remotely. Meeting times for this course are listed in the schedule of classes (in ET).',\n",
       " 'type': 'section',\n",
       " 'status_text': 'Open',\n",
       " 'section': '1',\n",
       " 'waiting': 0,\n",
       " 'instructor': ['An', 'Huang', 'anhuang@brandeis.edu'],\n",
       " 'coinstructors': [],\n",
       " 'code': ['MATH', '223A'],\n",
       " 'subject': 'MATH',\n",
       " 'coursenum': '223A',\n",
       " 'name': 'Lie Algebras: Representation Theory',\n",
       " 'independent_study': False,\n",
       " 'term': '1203',\n",
       " 'description': \"Theorems of Engel and Lie. Semisimple Lie algebras, Cartan's criterion. Universal enveloping algebras, PBW theorem, Serre's construction. Representation theory. Other topics as time permits. Usually offered every second year.\\nAn Huang\"}"
      ]
     },
     "execution_count": 62,
     "metadata": {},
     "output_type": "execute_result"
    }
   ],
   "source": [
    "print('there are',len(courses),'courses in the dataset')\n",
    "print('here is the data for course 1246')\n",
    "courses[1246]"
   ]
  },
  {
   "cell_type": "markdown",
   "metadata": {},
   "source": [
    "## Cleaning the data\n",
    "If we want to sort courses by instructor or by code, we need to replace the lists with tuples (which are immutable lists)"
   ]
  },
  {
   "cell_type": "code",
   "execution_count": 63,
   "metadata": {},
   "outputs": [],
   "source": [
    "for course in courses:\n",
    "        course['instructor'] = tuple(course['instructor'])\n",
    "        course['coinstructors'] = tuple([tuple(f) for f in course['coinstructors']])\n",
    "        course['code']= tuple(course['code'])"
   ]
  },
  {
   "cell_type": "code",
   "execution_count": 64,
   "metadata": {},
   "outputs": [
    {
     "name": "stdout",
     "output_type": "stream",
     "text": [
      "notice that the instructor and code are tuples now\n"
     ]
    },
    {
     "data": {
      "text/plain": [
       "{'limit': 28,\n",
       " 'times': [{'start': 1080, 'end': 1170, 'days': ['w', 'm']}],\n",
       " 'enrolled': 4,\n",
       " 'details': 'Instruction for this course will be offered remotely. Meeting times for this course are listed in the schedule of classes (in ET).',\n",
       " 'type': 'section',\n",
       " 'status_text': 'Open',\n",
       " 'section': '1',\n",
       " 'waiting': 0,\n",
       " 'instructor': ('An', 'Huang', 'anhuang@brandeis.edu'),\n",
       " 'coinstructors': (),\n",
       " 'code': ('MATH', '223A'),\n",
       " 'subject': 'MATH',\n",
       " 'coursenum': '223A',\n",
       " 'name': 'Lie Algebras: Representation Theory',\n",
       " 'independent_study': False,\n",
       " 'term': '1203',\n",
       " 'description': \"Theorems of Engel and Lie. Semisimple Lie algebras, Cartan's criterion. Universal enveloping algebras, PBW theorem, Serre's construction. Representation theory. Other topics as time permits. Usually offered every second year.\\nAn Huang\"}"
      ]
     },
     "execution_count": 64,
     "metadata": {},
     "output_type": "execute_result"
    }
   ],
   "source": [
    "print('notice that the instructor and code are tuples now')\n",
    "courses[1246]"
   ]
  },
  {
   "cell_type": "markdown",
   "metadata": {},
   "source": [
    "# Exploring the data set\n",
    "Now we will show how to use straight python to explore the data set and answer some interesting questions. Next week we will start learning Pandas/Numpy which are packages that make it easier to explore large dataset efficiently.\n",
    "\n",
    "Here are some questions we can try to asnwer:\n",
    "* what are all of the subjects of courses (e.g. COSI, MATH, JAPN, PHIL, ...)\n",
    "* which terms are represented?\n",
    "* how many instructors taught at Brandeis last year?\n",
    "* what were the five largest course sections?\n",
    "* what were the five largest courses (where we combine sections)?\n",
    "* which are the five largest subjects measured by number of courses offered?\n",
    "* which are the five largest courses measured by number of students taught?\n",
    "* which course had the most sections taught in 20-21?\n",
    "* who are the top five faculty in terms of number of students taught?\n",
    "* etc."
   ]
  },
  {
   "cell_type": "code",
   "execution_count": 65,
   "metadata": {},
   "outputs": [
    {
     "name": "stdout",
     "output_type": "stream",
     "text": [
      "('MATH', '10A') 280\n",
      "('MATH', '15A') 204\n",
      "('MATH', '10B') 125\n",
      "('MATH', '20A') 121\n",
      "('MATH', '23B') 95\n",
      "('MATH', '36A') 87\n",
      "('MATH', '8A') 85\n",
      "('MATH', '37A') 80\n",
      "('MATH', '35A') 65\n",
      "('MATH', '36B') 59\n",
      "('MATH', '121A') 52\n",
      "('MATH', '40A') 49\n",
      "('MATH', '16B') 46\n",
      "('MATH', '124A') 43\n",
      "('MATH', '126A') 40\n",
      "('MATH', '5A') 36\n",
      "('MATH', '28B') 25\n",
      "('MATH', '401D') 23\n",
      "('MATH', '3A') 19\n",
      "('MATH', '115A') 18\n"
     ]
    }
   ],
   "source": [
    "#Part 5a\n",
    "#how many faculty taught COSI courses last year?\n",
    "newlist = len({course['instructor'] for course in courses if course['subject'] == \"COSI\"})\n",
    "print(newlist)\n",
    "\n",
    "#Part 5b \n",
    "#what is the total number of students taking COSI courses last year?\n",
    "enrolled_in_cs = len({course['enrolled'] for course in courses if course['subject'] == \"COSI\"})\n",
    "print(enrolled_in_cs)\n",
    "\n",
    "#Part 5c \n",
    "#what was the median size of a COSI course last year (counting only those courses with at least 10 students)\n",
    "avgr_cs = sorted({course['enrolled'] for course in courses if course['subject'] == \"COSI\" if course['enrolled'] >9 })\n",
    "med = len(avgr_cs)//2\n",
    "print(avgr_cs[med])\n",
    "\n",
    "#Part 5d \n",
    "#create a list of tuples (E,S) where S is a subject and E is the number of students enrolled in courses in that subject, sort it and print the top 10. This shows the top 10 subjects in terms of number of students taught.\n",
    "tup_list = sorted({ (course['enrolled'], course['subject']) for course in courses},reverse = True)\n",
    "print(tup_list[:10])\n",
    "\n",
    "#Part 5e \n",
    "# do the same as in (d) but print the top 10 subjects in terms of number of courses offered\n",
    "from collections import defaultdict\n",
    "num_of_classes = defaultdict(int)\n",
    "for course in courses: num_of_classes[course['subject']] += 1\n",
    "new_dict= sorted(num_of_classes, reverse = True)\n",
    "\n",
    "print(new_dict[:10])\n",
    "\n",
    "# Part 5f\n",
    "#do the same as (d) but print the top 10 subjects in terms of number of faculty teaching courses in that subject\n",
    "from collections import defaultdict\n",
    "num_of_classes_per_instruct = defaultdict(int)\n",
    "for course in courses: num_of_classes_per_instruct[course['instructor']] += 1\n",
    "d= sorted(num_of_classes, reverse = True)\n",
    "\n",
    "print(d[:10]) \n",
    "\n",
    "#Part 5.G\n",
    "num_students_per_prof = defaultdict(int)\n",
    "for course in courses: num_students_per_prof[course['instructor']] += course['enrolled']\n",
    "ordered_instructors = [item[0] for item in num_students_per_prof.items()]\n",
    "ordered_instructors.sort(key = lambda instructor: num_students_per_prof[instructor], reverse = True)\n",
    "top20instructors = ordered_instructors[:20]\n",
    "# for instructor in top20instructors: print(instructor, num_students_per_prof[instructor])\n",
    "\n",
    "#Part 5.E\n",
    "num_students_per_course = defaultdict(int)\n",
    "for course in courses: num_students_per_course[course['code']] += course['enrolled']\n",
    "ordered_course = [item[0] for item in num_students_per_course.items()]\n",
    "ordered_course.sort(key = lambda course: num_students_per_course[course], reverse = True)\n",
    "top20course = ordered_course[:20]\n",
    "# for course in top20course: print(course, num_students_per_course[course])\n",
    "\n",
    "#Zach's Part 5.F\n",
    "#Find the Least Popular CS classes\n",
    "cs_course = [item[0] for item in num_students_per_course.items() if item[0][0] == 'COSI']\n",
    "cs_course.sort(key = lambda course: num_students_per_course[course])\n",
    "bottom20course = cs_course[:20]\n",
    "#for course in bottom20course: print(course, num_students_per_course[course])\n",
    "\n",
    "#Ava Part 5.F\n",
    "#Find the Least Popular Biology classes\n",
    "cs_course = [item[0] for item in num_students_per_course.items() if item[0][0] == 'BIOL']\n",
    "cs_course.sort(key = lambda course: num_students_per_course[course])\n",
    "bottom20course = cs_course[:20]\n",
    "#for course in bottom20course: print(course, num_students_per_course[course])\n",
    "\n",
    "\n",
    "#for course in bottom20course: print(course, num_students_per_course[course])\n",
    "\n"
   ]
  }
 ],
 "metadata": {
  "kernelspec": {
   "display_name": "Python 3",
   "language": "python",
   "name": "python3"
  },
  "language_info": {
   "codemirror_mode": {
    "name": "ipython",
    "version": 3
   },
   "file_extension": ".py",
   "mimetype": "text/x-python",
   "name": "python",
   "nbconvert_exporter": "python",
   "pygments_lexer": "ipython3",
   "version": "3.9.0"
  }
 },
 "nbformat": 4,
 "nbformat_minor": 4
}
